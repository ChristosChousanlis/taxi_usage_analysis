{
 "cells": [
  {
   "cell_type": "code",
   "execution_count": 1,
   "id": "a153f171-075f-4d32-8442-08cc429615f3",
   "metadata": {},
   "outputs": [],
   "source": [
    "import pandas as pd\n",
    "import numpy as np\n",
    "from jupyter_dash import JupyterDash\n",
    "import dash\n",
    "from dash import dcc, html\n",
    "from dash.dependencies import Input, Output\n",
    "import plotly.express as px\n",
    "import dash_bootstrap_components as dbc"
   ]
  },
  {
   "cell_type": "code",
   "execution_count": 2,
   "id": "2a34bd73-27d0-458b-9cbc-5459bc59f46f",
   "metadata": {},
   "outputs": [],
   "source": [
    "#external_stylesheets = ['https://codepen.io/chriddyp/pen/bWLwgP.css']\n",
    "external_stylesheets = [dbc.themes.CERULEAN]"
   ]
  },
  {
   "cell_type": "code",
   "execution_count": 3,
   "id": "ac7636f9-980e-4f6f-92e4-4d1bac8f560f",
   "metadata": {},
   "outputs": [],
   "source": [
    "df_all= pd.read_csv('for_dash.csv')\n",
    "df_all.drop('Unnamed: 0', axis=1, inplace=True)"
   ]
  },
  {
   "cell_type": "code",
   "execution_count": 4,
   "id": "f5b252e0-e7b7-4748-9365-2a8178fc0128",
   "metadata": {},
   "outputs": [
    {
     "data": {
      "text/html": [
       "<div>\n",
       "<style scoped>\n",
       "    .dataframe tbody tr th:only-of-type {\n",
       "        vertical-align: middle;\n",
       "    }\n",
       "\n",
       "    .dataframe tbody tr th {\n",
       "        vertical-align: top;\n",
       "    }\n",
       "\n",
       "    .dataframe thead th {\n",
       "        text-align: right;\n",
       "    }\n",
       "</style>\n",
       "<table border=\"1\" class=\"dataframe\">\n",
       "  <thead>\n",
       "    <tr style=\"text-align: right;\">\n",
       "      <th></th>\n",
       "      <th>amount</th>\n",
       "      <th>timestamp</th>\n",
       "      <th>day</th>\n",
       "      <th>hour</th>\n",
       "      <th>day_name</th>\n",
       "      <th>period_of_day</th>\n",
       "    </tr>\n",
       "  </thead>\n",
       "  <tbody>\n",
       "    <tr>\n",
       "      <th>0</th>\n",
       "      <td>11.0</td>\n",
       "      <td>2021-05-18 21:34:00</td>\n",
       "      <td>18.0</td>\n",
       "      <td>21.0</td>\n",
       "      <td>Tuesday</td>\n",
       "      <td>night</td>\n",
       "    </tr>\n",
       "    <tr>\n",
       "      <th>1</th>\n",
       "      <td>9.1</td>\n",
       "      <td>2021-05-18 15:36:00</td>\n",
       "      <td>18.0</td>\n",
       "      <td>15.0</td>\n",
       "      <td>Tuesday</td>\n",
       "      <td>midday</td>\n",
       "    </tr>\n",
       "    <tr>\n",
       "      <th>2</th>\n",
       "      <td>14.0</td>\n",
       "      <td>2021-05-18 05:55:00</td>\n",
       "      <td>18.0</td>\n",
       "      <td>5.0</td>\n",
       "      <td>Tuesday</td>\n",
       "      <td>dawn</td>\n",
       "    </tr>\n",
       "    <tr>\n",
       "      <th>3</th>\n",
       "      <td>19.0</td>\n",
       "      <td>2021-05-18 04:49:00</td>\n",
       "      <td>18.0</td>\n",
       "      <td>4.0</td>\n",
       "      <td>Tuesday</td>\n",
       "      <td>dawn</td>\n",
       "    </tr>\n",
       "    <tr>\n",
       "      <th>4</th>\n",
       "      <td>22.0</td>\n",
       "      <td>2021-05-18 05:22:00</td>\n",
       "      <td>18.0</td>\n",
       "      <td>5.0</td>\n",
       "      <td>Tuesday</td>\n",
       "      <td>dawn</td>\n",
       "    </tr>\n",
       "  </tbody>\n",
       "</table>\n",
       "</div>"
      ],
      "text/plain": [
       "   amount            timestamp   day  hour day_name period_of_day\n",
       "0    11.0  2021-05-18 21:34:00  18.0  21.0  Tuesday         night\n",
       "1     9.1  2021-05-18 15:36:00  18.0  15.0  Tuesday        midday\n",
       "2    14.0  2021-05-18 05:55:00  18.0   5.0  Tuesday          dawn\n",
       "3    19.0  2021-05-18 04:49:00  18.0   4.0  Tuesday          dawn\n",
       "4    22.0  2021-05-18 05:22:00  18.0   5.0  Tuesday          dawn"
      ]
     },
     "execution_count": 4,
     "metadata": {},
     "output_type": "execute_result"
    }
   ],
   "source": [
    "df_all.head()"
   ]
  },
  {
   "cell_type": "code",
   "execution_count": 5,
   "id": "8acabcfe-6945-46d8-989a-56feedd2e798",
   "metadata": {},
   "outputs": [],
   "source": [
    "grouped = df_all.groupby(['hour','day_name','day','period_of_day'])['amount'].count().reset_index()"
   ]
  },
  {
   "cell_type": "code",
   "execution_count": 6,
   "id": "c9d75537-6c63-4b30-9050-613bc43f1eee",
   "metadata": {},
   "outputs": [],
   "source": [
    "grouped.rename({'amount':'transactions'}, axis=1, inplace=True)"
   ]
  },
  {
   "cell_type": "code",
   "execution_count": 7,
   "id": "2d9d248d-c7db-4f44-95d3-48f172c5c878",
   "metadata": {},
   "outputs": [],
   "source": [
    "grouped = grouped[grouped['day'] != 17]"
   ]
  },
  {
   "cell_type": "code",
   "execution_count": 8,
   "id": "f3bb6f85-d409-42a8-bd38-9ce4c67c37f2",
   "metadata": {},
   "outputs": [
    {
     "data": {
      "text/html": [
       "<div>\n",
       "<style scoped>\n",
       "    .dataframe tbody tr th:only-of-type {\n",
       "        vertical-align: middle;\n",
       "    }\n",
       "\n",
       "    .dataframe tbody tr th {\n",
       "        vertical-align: top;\n",
       "    }\n",
       "\n",
       "    .dataframe thead th {\n",
       "        text-align: right;\n",
       "    }\n",
       "</style>\n",
       "<table border=\"1\" class=\"dataframe\">\n",
       "  <thead>\n",
       "    <tr style=\"text-align: right;\">\n",
       "      <th></th>\n",
       "      <th>hour</th>\n",
       "      <th>day_name</th>\n",
       "      <th>day</th>\n",
       "      <th>period_of_day</th>\n",
       "      <th>transactions</th>\n",
       "    </tr>\n",
       "  </thead>\n",
       "  <tbody>\n",
       "    <tr>\n",
       "      <th>0</th>\n",
       "      <td>0.0</td>\n",
       "      <td>Friday</td>\n",
       "      <td>21.0</td>\n",
       "      <td>midnight</td>\n",
       "      <td>18</td>\n",
       "    </tr>\n",
       "    <tr>\n",
       "      <th>1</th>\n",
       "      <td>0.0</td>\n",
       "      <td>Friday</td>\n",
       "      <td>28.0</td>\n",
       "      <td>midnight</td>\n",
       "      <td>12</td>\n",
       "    </tr>\n",
       "    <tr>\n",
       "      <th>2</th>\n",
       "      <td>0.0</td>\n",
       "      <td>Monday</td>\n",
       "      <td>24.0</td>\n",
       "      <td>midnight</td>\n",
       "      <td>29</td>\n",
       "    </tr>\n",
       "    <tr>\n",
       "      <th>3</th>\n",
       "      <td>0.0</td>\n",
       "      <td>Monday</td>\n",
       "      <td>31.0</td>\n",
       "      <td>midnight</td>\n",
       "      <td>10</td>\n",
       "    </tr>\n",
       "    <tr>\n",
       "      <th>4</th>\n",
       "      <td>0.0</td>\n",
       "      <td>Saturday</td>\n",
       "      <td>22.0</td>\n",
       "      <td>midnight</td>\n",
       "      <td>100</td>\n",
       "    </tr>\n",
       "  </tbody>\n",
       "</table>\n",
       "</div>"
      ],
      "text/plain": [
       "   hour  day_name   day period_of_day  transactions\n",
       "0   0.0    Friday  21.0      midnight            18\n",
       "1   0.0    Friday  28.0      midnight            12\n",
       "2   0.0    Monday  24.0      midnight            29\n",
       "3   0.0    Monday  31.0      midnight            10\n",
       "4   0.0  Saturday  22.0      midnight           100"
      ]
     },
     "execution_count": 8,
     "metadata": {},
     "output_type": "execute_result"
    }
   ],
   "source": [
    "grouped.head()"
   ]
  },
  {
   "cell_type": "code",
   "execution_count": 9,
   "id": "8358946b-11c0-4cbc-ad60-d33724f9e0bd",
   "metadata": {},
   "outputs": [],
   "source": [
    "days = grouped['day'].value_counts().head(20).reset_index()"
   ]
  },
  {
   "cell_type": "code",
   "execution_count": 10,
   "id": "d4829d94-407d-4e4b-bd0d-4c69710e4d93",
   "metadata": {},
   "outputs": [],
   "source": [
    "days['index']=days['index'].astype(int)"
   ]
  },
  {
   "cell_type": "code",
   "execution_count": 11,
   "id": "1f621559-5e62-4491-aca8-05410bc59bd1",
   "metadata": {},
   "outputs": [],
   "source": [
    "days.sort_values(by='index', inplace=True)"
   ]
  },
  {
   "cell_type": "code",
   "execution_count": 12,
   "id": "6c97a5c0-8e9c-4e3f-bb7a-ef2fc0b0f68a",
   "metadata": {},
   "outputs": [
    {
     "data": {
      "text/html": [
       "<div>\n",
       "<style scoped>\n",
       "    .dataframe tbody tr th:only-of-type {\n",
       "        vertical-align: middle;\n",
       "    }\n",
       "\n",
       "    .dataframe tbody tr th {\n",
       "        vertical-align: top;\n",
       "    }\n",
       "\n",
       "    .dataframe thead th {\n",
       "        text-align: right;\n",
       "    }\n",
       "</style>\n",
       "<table border=\"1\" class=\"dataframe\">\n",
       "  <thead>\n",
       "    <tr style=\"text-align: right;\">\n",
       "      <th></th>\n",
       "      <th>index</th>\n",
       "      <th>day</th>\n",
       "    </tr>\n",
       "  </thead>\n",
       "  <tbody>\n",
       "    <tr>\n",
       "      <th>3</th>\n",
       "      <td>18</td>\n",
       "      <td>24</td>\n",
       "    </tr>\n",
       "    <tr>\n",
       "      <th>6</th>\n",
       "      <td>19</td>\n",
       "      <td>24</td>\n",
       "    </tr>\n",
       "    <tr>\n",
       "      <th>2</th>\n",
       "      <td>20</td>\n",
       "      <td>24</td>\n",
       "    </tr>\n",
       "    <tr>\n",
       "      <th>8</th>\n",
       "      <td>21</td>\n",
       "      <td>24</td>\n",
       "    </tr>\n",
       "    <tr>\n",
       "      <th>9</th>\n",
       "      <td>22</td>\n",
       "      <td>24</td>\n",
       "    </tr>\n",
       "  </tbody>\n",
       "</table>\n",
       "</div>"
      ],
      "text/plain": [
       "   index  day\n",
       "3     18   24\n",
       "6     19   24\n",
       "2     20   24\n",
       "8     21   24\n",
       "9     22   24"
      ]
     },
     "execution_count": 12,
     "metadata": {},
     "output_type": "execute_result"
    }
   ],
   "source": [
    "days.head()"
   ]
  },
  {
   "cell_type": "markdown",
   "id": "e344f45c-44c4-4589-b235-42fddab101c2",
   "metadata": {
    "tags": []
   },
   "source": [
    "### Creating the Dashboard"
   ]
  },
  {
   "cell_type": "code",
   "execution_count": 13,
   "id": "c656b79f-9d5c-4409-865c-75d953f3f433",
   "metadata": {},
   "outputs": [],
   "source": [
    "def value_filter(df, value):\n",
    "    df = df[(df['day']== float(value))]\n",
    "    return df"
   ]
  },
  {
   "cell_type": "code",
   "execution_count": 14,
   "id": "e179ff7c-49e7-4412-aecb-9e3da975ebe5",
   "metadata": {},
   "outputs": [
    {
     "name": "stdout",
     "output_type": "stream",
     "text": [
      "Dash app running on http://localhost:8051/\n"
     ]
    }
   ],
   "source": [
    "app = JupyterDash(__name__, external_stylesheets=external_stylesheets)\n",
    "\n",
    "app.layout = dbc.Container([\n",
    " \n",
    "#FIRST ROW----------------------(HEADER)-------------------------------------------------------  \n",
    "    dbc.Row([ \n",
    "       dbc.Col(html.H1('Taxi Service Usage Report', \n",
    "                        className = 'text-center text-primary mb-4'),\n",
    "                width=12)\n",
    "    ]),\n",
    "                    \n",
    "#SECOND ROW------------------(DROPDOWN)-------------------------------------------------------- \n",
    "    dbc.Row([\n",
    "        dbc.Col([html.Label(\"Select Date:\",\n",
    "                   style={'font-weight': 'bold',\"textDecoration\": \"underline\"}, className = 'text-center mb4'),\n",
    "            \n",
    "            dcc.Dropdown(id='my-dropdown', value= 18, searchable=False,\n",
    "                              options = [{'label':str(x)+' May', 'value':x}\n",
    "                                        for x in days['index']],\n",
    "                          style={'width':\"100%\"}),\n",
    "                 \n",
    "                  html.Div(id='slider-output-container'),\n",
    "                \n",
    "                     html.Br(),\n",
    "        \n",
    "                ],width={'size':6,'offset':3}, className='mb-4'),\n",
    "        \n",
    "    ]),\n",
    "    \n",
    "#THIRD ROW------------------(BAR GRAPHS)---------------------------------------------------- \n",
    "    dbc.Row([\n",
    "\n",
    "     \n",
    "    #first column ---------------------------------------------------       \n",
    "        dbc.Col([dcc.Graph(id=\"barplot\", figure={}),               #first barplot, period of the day\n",
    "             ]),\n",
    "    \n",
    "            html.Br(),\n",
    "    \n",
    "    #second column--------------------------------------------------       \n",
    "            dbc.Col([dcc.Graph(id=\"barplot2\", figure={}) ,              #second barplot, hours\n",
    "            html.Br()\n",
    "                    ])\n",
    "        ]),\n",
    "    \n",
    "#FOURTH ROW------------------(LINEPLOT)------------------------------------ \n",
    "            \n",
    "    dbc.Row([\n",
    "\n",
    "        dbc.Col([dcc.Graph(id=\"lineplot\", figure={}),               #first barplot, crimes\n",
    "             ]),\n",
    "    \n",
    "            html.Br(),\n",
    "        ]),\n",
    "     ])\n",
    "#callback for barplots----------------------------------------------------------------------\n",
    "\n",
    "@app.callback(\n",
    "    [Output('barplot', component_property ='figure'),\n",
    "     Output('barplot2', component_property ='figure'),\n",
    "    Output('slider-output-container', component_property ='children')],\n",
    "    Input('my-dropdown', component_property ='value')\n",
    ")\n",
    "def update_graph(value):\n",
    "    dff=df_all\n",
    "    day = value_filter(dff,value)\n",
    "    fig = px.histogram(day, x='period_of_day', y= 'amount',histfunc= 'avg',\n",
    "                        height=500, \n",
    "                   labels={'period_of_day':'Period of The Day','amount': 'Amount Paid'},\n",
    "                       title ='Average amount paid by period of the day')\n",
    "    \n",
    "    fig2 = px.histogram(day, x='hour', y= 'amount',histfunc= 'avg',\n",
    "                        height=500, color_discrete_sequence=['indianred'],\n",
    "                   labels={'hour':'Hour of The Day','amount': 'Amount Paid'},\n",
    "                       title ='Average amount paid by the hour')\n",
    "    \n",
    "    return fig, fig2, '{} May 2021'.format(day['day_name'].unique()[0])\n",
    "    \n",
    "\n",
    "#callback for lineplot----------------------------------------------------------------------\n",
    "    \n",
    "@app.callback(\n",
    "    Output(\"lineplot\", component_property ='figure'),\n",
    "     [Input('my-dropdown', component_property ='value')]\n",
    "     #Input('range-slider', component_property ='value')]\n",
    ")\n",
    "def update_graph(value):\n",
    "    dff = grouped\n",
    "    fig = px.line(value_filter(dff,value), x='hour', y='transactions',color='day_name',\n",
    "                  labels={'hour':'Hours of The Day','transactions': 'Number of Transactions'},\n",
    "                 title ='Taxi Usage by Hour')\n",
    "    \n",
    "    fig.update_layout(legend=dict(\n",
    "    title=None,\n",
    "    orientation=\"h\",\n",
    "    yanchor=\"bottom\",\n",
    "    y=1.02,\n",
    "    xanchor=\"right\",\n",
    "    x=1))\n",
    "    \n",
    "    return fig \n",
    "    \n",
    "    \n",
    "    \n",
    "app.run_server(mode ='external',host=\"localhost\", port=8051)"
   ]
  },
  {
   "cell_type": "code",
   "execution_count": null,
   "id": "e7c90e16-cca0-486e-afa9-73b7403d9264",
   "metadata": {},
   "outputs": [],
   "source": []
  }
 ],
 "metadata": {
  "kernelspec": {
   "display_name": "Python [conda env:george] *",
   "language": "python",
   "name": "conda-env-george-py"
  },
  "language_info": {
   "codemirror_mode": {
    "name": "ipython",
    "version": 3
   },
   "file_extension": ".py",
   "mimetype": "text/x-python",
   "name": "python",
   "nbconvert_exporter": "python",
   "pygments_lexer": "ipython3",
   "version": "3.7.11"
  }
 },
 "nbformat": 4,
 "nbformat_minor": 5
}
